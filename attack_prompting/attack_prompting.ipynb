{
 "cells": [
  {
   "cell_type": "code",
   "execution_count": null,
   "metadata": {},
   "outputs": [],
   "source": [
    "import os\n",
    "import time\n",
    "import json\n",
    "import openai\n",
    "import pandas as pd\n",
    "os.sys.path.append(\"..\")\n",
    "from templates import prompting_attack_template\n",
    "\n",
    "RETRY_TIMES = 3\n",
    "API_MODEL_NAME = [\"gpt-4.1\", \"gpt-4.1-mini\", \"gpt-4o-mini\", \"claude-3-haiku\", \"qwen-plus\", \"qwen-turbo\", \"gemini-1.5\", \"gpt\", \"claude\", \"gemini\"]\n",
    "API_MODEL_VERSION = [\"gpt-4.1-2025-04-14\", \"gpt-4.1-mini-2025-04-14\", \"gpt-4o-mini-2024-07-18\", \"claude-3-haiku-20240307\", \"qwen-plus-latest\", \"qwen-turbo-latest\", \"gemini-1.5-flash\", \"gpt-4o-2024-11-20\", \"claude-3-7-sonnet-20250219-low\", \"gemini-2.0-flash\"]\n",
    "\n",
    "METHOD = 'AttackPrompting'\n",
    "OUTPUT_OPTIONS = [\"[Yes]\", \"[No]\"]\n",
    "template = prompting_attack_template\n",
    "df = pd.read_csv(os.path.join(\"..\", \"data\", \"jailflipbench_textual\", \"jailflipbench.csv\"))\n",
    "\n",
    "def check_output_in_format(x:str)->bool:\n",
    "    for option in OUTPUT_OPTIONS:\n",
    "        if option in x:\n",
    "            return True\n",
    "    return False\n",
    "\n",
    "def get_single_response(model_name, input_str):\n",
    "    if True:    # standard openai format\n",
    "        messages = [\n",
    "            {\"role\": \"user\", \"content\": input_str},\n",
    "        ]\n",
    "        response = openai.ChatCompletion.create(\n",
    "            model = model_name,\n",
    "            messages = messages,\n",
    "            max_completion_tokens = 512,\n",
    "            )\n",
    "        return response[\"choices\"][0][\"message\"][\"content\"]\n",
    "    else:       # or specify your own api format\n",
    "        pass\n",
    "\n",
    "def from_bool_to_YesNo_str(x:bool)->str:\n",
    "    assert isinstance(x, bool)\n",
    "    if x:\n",
    "        return \"[[Yes]]\"\n",
    "    if not x:\n",
    "        return \"[[No]]\""
   ]
  },
  {
   "cell_type": "markdown",
   "metadata": {},
   "source": [
    "### First, configure the api setting, and specify the target models"
   ]
  },
  {
   "cell_type": "code",
   "execution_count": null,
   "metadata": {},
   "outputs": [],
   "source": [
    "MODEL_INDEX = 0\n",
    "model_ver  = API_MODEL_VERSION[MODEL_INDEX]\n",
    "model_name = API_MODEL_NAME[MODEL_INDEX]\n",
    "\n",
    "gt_list = df['gt'].to_list()\n",
    "input_list = df['question'].to_list()\n",
    "input_list = [template.format(question=q, gt=from_bool_to_YesNo_str(gt), neg_gt=from_bool_to_YesNo_str(not gt)) for q,gt in zip(input_list,gt_list)]\n",
    "output_list = [None for _ in range(len(input_list))]"
   ]
  },
  {
   "cell_type": "markdown",
   "metadata": {},
   "source": [
    "### Then, generate each question's response"
   ]
  },
  {
   "cell_type": "code",
   "execution_count": null,
   "metadata": {},
   "outputs": [],
   "source": [
    "for idx, q in enumerate(input_list):\n",
    "    if output_list[idx] is not None:\n",
    "        continue\n",
    "    for _ in range(RETRY_TIMES):\n",
    "        try:\n",
    "            textual_output = get_single_response(model_ver, q)\n",
    "            assert check_output_in_format(textual_output)\n",
    "            output_list[idx] = textual_output\n",
    "        except AssertionError as e:\n",
    "            print(f\"For index {idx} model {model_name}, target options reflected wrong in the output #{textual_output[:30]}#, re-generate...\")\n",
    "            time.sleep(1)\n",
    "        except Exception as e:\n",
    "            print(f\"Other error, index {idx} model {model_name}, {e}\")\n",
    "            time.sleep(1)"
   ]
  },
  {
   "cell_type": "markdown",
   "metadata": {},
   "source": [
    "### Last, store the results in json format"
   ]
  },
  {
   "cell_type": "code",
   "execution_count": null,
   "metadata": {},
   "outputs": [],
   "source": [
    "with open(f\"results_{METHOD}_model_{model_name}.json\", \"w\") as f:\n",
    "    json.dump({'input_list':input_list, 'output_list':output_list}, f, indent=4, ensure_ascii=False)"
   ]
  }
 ],
 "metadata": {
  "kernelspec": {
   "display_name": "llama31_gcg",
   "language": "python",
   "name": "python3"
  },
  "language_info": {
   "codemirror_mode": {
    "name": "ipython",
    "version": 3
   },
   "file_extension": ".py",
   "mimetype": "text/x-python",
   "name": "python",
   "nbconvert_exporter": "python",
   "pygments_lexer": "ipython3",
   "version": "3.11.11"
  }
 },
 "nbformat": 4,
 "nbformat_minor": 2
}
