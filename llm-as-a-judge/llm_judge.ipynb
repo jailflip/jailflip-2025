{
 "cells": [
  {
   "cell_type": "code",
   "execution_count": null,
   "metadata": {},
   "outputs": [],
   "source": [
    "import os\n",
    "import time\n",
    "import json\n",
    "import openai\n",
    "import pandas as pd\n",
    "os.sys.path.append(\"..\")\n",
    "from templates import jailflip_judge_prompt\n",
    "\n",
    "RETRY_TIMES = 3\n",
    "API_MODEL_NAME = [\"gpt\", \"claude\", \"gemini\"]\n",
    "API_MODEL_VERSION = [\"gpt-4o-2024-11-20\", \"claude-3-7-sonnet-20250219-low\", \"gemini-2.0-flash\"]\n",
    "\n",
    "MODEL_INDEX = -1\n",
    "model_ver  = API_MODEL_VERSION[MODEL_INDEX]\n",
    "model_name = API_MODEL_NAME[MODEL_INDEX]\n",
    "\n",
    "METHOD = 'DirectQuery'\n",
    "OUTPUT_OPTIONS = [\"[True]\", \"[False]\"]\n",
    "template = jailflip_judge_prompt\n",
    "df = pd.read_csv(os.path.join(\"..\", \"data\", \"jailflipbench_textual\", \"jailflipbench.csv\"))\n",
    "\n",
    "def check_output_in_format(x:str)->bool:\n",
    "    for option in OUTPUT_OPTIONS:\n",
    "        if option in x:\n",
    "            return True\n",
    "    return False\n",
    "\n",
    "def get_single_response(model_name, input_str):\n",
    "    if True:    # standard openai format\n",
    "        messages = [\n",
    "            {\"role\": \"user\", \"content\": input_str},\n",
    "        ]\n",
    "        response = openai.ChatCompletion.create(\n",
    "            model = model_name,\n",
    "            messages = messages,\n",
    "            max_completion_tokens = 512,\n",
    "            )\n",
    "        return response[\"choices\"][0][\"message\"][\"content\"]\n",
    "    else:       # or specify your own api format\n",
    "        pass"
   ]
  },
  {
   "cell_type": "markdown",
   "metadata": {},
   "source": [
    "### First, configure the api setting, and specify the target root to be evaluated"
   ]
  },
  {
   "cell_type": "code",
   "execution_count": null,
   "metadata": {},
   "outputs": [],
   "source": [
    "# example result file root, please change to your own\n",
    "result_root = \"../direct_query/results_DirectQuery_model_gpt-4.1.json\"\n",
    "\n",
    "with open(result_root) as f:\n",
    "    log = json.load(f)\n",
    "gt_list = df['gt'].to_list()\n",
    "q_list = df['question'].to_list()\n",
    "r_list = log['output_list']\n",
    "input_list = [template.format(question=q, gt=gt, response=r) for gt, q, r in zip(gt_list, q_list, r_list)]\n",
    "output_list = [None for _ in range(len(input_list))]"
   ]
  },
  {
   "cell_type": "markdown",
   "metadata": {},
   "source": [
    "### Then, generate each root's evaluation result"
   ]
  },
  {
   "cell_type": "code",
   "execution_count": null,
   "metadata": {},
   "outputs": [],
   "source": [
    "for idx, q in enumerate(input_list):\n",
    "    if output_list[idx] is not None:\n",
    "        continue\n",
    "    for _ in range(RETRY_TIMES):\n",
    "        try:\n",
    "            textual_output = get_single_response(model_ver, q)\n",
    "            assert check_output_in_format(textual_output)\n",
    "            output_list[idx] = textual_output\n",
    "        except AssertionError as e:\n",
    "            print(f\"For index {idx} model {model_name}, target options reflected wrong in the output #{textual_output[:30]}#, re-generate...\")\n",
    "            time.sleep(1)\n",
    "        except Exception as e:\n",
    "            print(f\"Other error, index {idx} model {model_name}, {e}\")\n",
    "            time.sleep(1)"
   ]
  },
  {
   "cell_type": "markdown",
   "metadata": {},
   "source": [
    "### Last, store the results in json format"
   ]
  },
  {
   "cell_type": "code",
   "execution_count": null,
   "metadata": {},
   "outputs": [],
   "source": [
    "with open(result_root.replace(\"results_\", \"judged_\"), \"w\") as f:\n",
    "    json.dump({'input_list':input_list, 'output_list':output_list}, f, indent=4, ensure_ascii=False)"
   ]
  }
 ],
 "metadata": {
  "kernelspec": {
   "display_name": "llama31_gcg",
   "language": "python",
   "name": "python3"
  },
  "language_info": {
   "codemirror_mode": {
    "name": "ipython",
    "version": 3
   },
   "file_extension": ".py",
   "mimetype": "text/x-python",
   "name": "python",
   "nbconvert_exporter": "python",
   "pygments_lexer": "ipython3",
   "version": "3.11.11"
  }
 },
 "nbformat": 4,
 "nbformat_minor": 2
}
